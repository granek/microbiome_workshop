{
 "cells": [
  {
   "cell_type": "code",
   "execution_count": null,
   "metadata": {
    "collapsed": false
   },
   "outputs": [],
   "source": [
    "wget --output-document \\\n",
    "~/work/analysis/dada/MiSeq_SOP/rdp_train_set_14.fa.gz \\\n",
    "https://www.dropbox.com/sh/mfcivbudmc21cqt/AAD2Y6rEM5x0KVH1liXn6Q6Ia/rdp_train_set_14.fa.gz?dl=1"
   ]
  },
  {
   "cell_type": "code",
   "execution_count": null,
   "metadata": {
    "collapsed": false
   },
   "outputs": [],
   "source": [
    "ls -ltr ~/work/analysis/dada/MiSeq_SOP/rdp_train_set_14.fa.gz"
   ]
  }
 ],
 "metadata": {
  "kernelspec": {
   "display_name": "Bash",
   "language": "bash",
   "name": "bash"
  },
  "language_info": {
   "codemirror_mode": "shell",
   "file_extension": ".sh",
   "mimetype": "text/x-sh",
   "name": "bash"
  }
 },
 "nbformat": 4,
 "nbformat_minor": 0
}
