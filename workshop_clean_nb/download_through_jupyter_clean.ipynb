{
 "cells": [
  {
   "cell_type": "markdown",
   "metadata": {},
   "source": [
    "## Downloading files through Jupyter\n",
    "### Packaging up files\n",
    "Before we can downdload Jupyter notebook files, we need to package them up, otherwise Jupyter will think that you are trying to run it.  We can do this with `tar`.  Using the following command will create a package file (commonly called a tarball) containing all of the notebook files in the current directory.  \n",
    "\n",
    "`-z` tells tar to also gzip (compress) the file\n",
    "`-c` is for \"create\", meaning we are creating a tarball, not unpackaging it\n",
    "`-v` is for \"verbose\", meaning tell us what you are doing\n",
    "`-f my_notebooks.tgz` tells tar what the name of the tarball should be\n",
    "`*.ipynb` tells tar to put all of the files ending in \".ipynb\" in the tarball"
   ]
  },
  {
   "cell_type": "code",
   "execution_count": null,
   "metadata": {
    "collapsed": false
   },
   "outputs": [],
   "source": [
   ]
  },
  {
   "cell_type": "markdown",
   "metadata": {},
   "source": [
    "### Downloading\n",
    "At this point we can use the following to tell Jupyter to give us a clickable link to our tarball.  Once we run the command, we can download just by clicking on the link."
   ]
  },
  {
   "cell_type": "code",
   "execution_count": null,
   "metadata": {
    "collapsed": false
   },
   "outputs": [],
   "source": [
   ]
  },
  {
   "cell_type": "markdown",
   "metadata": {},
   "source": [
    "### Unwrapping our tarball\n",
    "On a Mac you can \"untar\" by double clicking on the file in finder, or at the terminal with the command `tar -zxf my_notebooks.tgz`.\n",
    "\n",
    "On Windows, you can download software that will do it, such as [7-Zip](http://www.7-zip.org/)"
   ]
  },
  {
   "cell_type": "markdown",
   "metadata": {},
   "source": [
    "## Other Download Options\n",
    "### sftp and scp\n",
    "Another way to download files from the virtual machine is through scp and sftp, these are secure file transfer protocols.  Command line versions come built in on OS X, as long as you don't mind using the.  There are also GUI versions of scp and sftp, such as [Cyberduck](https://cyberduck.io/) and [Filezilla](https://filezilla-project.org/).  These are both cross platform and free.  For these you would use the same hostname, username, and password that you used to SSH to your virtual machine.\n",
    "\n",
    "### rsync\n",
    "I am partial to [rsync](https://en.wikipedia.org/wiki/Rsync).  It is less user friendly, but has powerfully features, such as the ability to transfer only files that are different between two computers, and the ability to resume a transfer that failed part way.\n",
    "\n",
    "### GitHub Repository\n",
    "All of the above methods will download files from your virtual machine as they are now (i.e. with any changes you have made).  If you want the orginial notebooks, as well as additional material that went into developing this workshop, you can [download a zip file](https://github.com/granek/microbiome_workshop/archive/master.zip) containing the whole [GitHub Repository of this workshop](https://github.com/granek/microbiome_workshop)"
   ]
  }
 ],
 "metadata": {
  "kernelspec": {
   "display_name": "Python 2",
   "language": "python",
   "name": "python2"
  },
  "language_info": {
   "codemirror_mode": {
    "name": "ipython",
    "version": 2
   },
   "file_extension": ".py",
   "mimetype": "text/x-python",
   "name": "python",
   "nbconvert_exporter": "python",
   "pygments_lexer": "ipython2",
   "version": "2.7.11"
  }
 },
 "nbformat": 4,
 "nbformat_minor": 0
}
