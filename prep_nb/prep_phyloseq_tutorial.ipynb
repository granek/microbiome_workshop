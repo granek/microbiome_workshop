{
 "cells": [
  {
   "cell_type": "code",
   "execution_count": null,
   "metadata": {
    "collapsed": false
   },
   "outputs": [],
   "source": [
    "mkdir -p ~/work/phyloseq_docs\n",
    "cd ~/work/phyloseq_docs"
   ]
  },
  {
   "cell_type": "code",
   "execution_count": null,
   "metadata": {
    "collapsed": false
   },
   "outputs": [],
   "source": [
    "pip install --user git+https://github.com/chronitis/ipyrmd"
   ]
  },
  {
   "cell_type": "code",
   "execution_count": null,
   "metadata": {
    "collapsed": false
   },
   "outputs": [],
   "source": [
    "# https://raw.githubusercontent.com/joey711/phyloseq/gh-pages/import-data.rmd\n",
    "for CURDOC in import-data\n",
    "do\n",
    "    wget https://raw.githubusercontent.com/joey711/phyloseq/gh-pages/${CURDOC}.rmd\n",
    "    /home/jovyan/.local/bin/ipyrmd --to ipynb --from Rmd -o ${CURDOC}.ipynb ${CURDOC}.rmd\n",
    "done"
   ]
  },
  {
   "cell_type": "code",
   "execution_count": null,
   "metadata": {
    "collapsed": false
   },
   "outputs": [],
   "source": [
    "# https://raw.githubusercontent.com/joey711/phyloseq-demo/gh-pages/phyloseq-demo.rmd\n",
    "for CURDOC in phyloseq-demo\n",
    "do\n",
    "    wget https://raw.githubusercontent.com/joey711/phyloseq-demo/gh-pages/${CURDOC}.rmd\n",
    "    /home/jovyan/.local/bin/ipyrmd --to ipynb --from Rmd -o ${CURDOC}.ipynb ${CURDOC}.rmd\n",
    "done"
   ]
  },
  {
   "cell_type": "code",
   "execution_count": null,
   "metadata": {
    "collapsed": false
   },
   "outputs": [],
   "source": [
    "ls"
   ]
  },
  {
   "cell_type": "code",
   "execution_count": null,
   "metadata": {
    "collapsed": false
   },
   "outputs": [],
   "source": [
    "rm *.Rmd *.rmd"
   ]
  },
  {
   "cell_type": "code",
   "execution_count": null,
   "metadata": {
    "collapsed": true
   },
   "outputs": [],
   "source": []
  }
 ],
 "metadata": {
  "kernelspec": {
   "display_name": "Bash",
   "language": "bash",
   "name": "bash"
  },
  "language_info": {
   "codemirror_mode": "shell",
   "file_extension": ".sh",
   "mimetype": "text/x-sh",
   "name": "bash"
  }
 },
 "nbformat": 4,
 "nbformat_minor": 0
}
