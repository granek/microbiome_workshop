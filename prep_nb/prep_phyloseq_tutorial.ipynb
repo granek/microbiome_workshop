{
 "cells": [
  {
   "cell_type": "code",
   "execution_count": 2,
   "metadata": {
    "collapsed": false
   },
   "outputs": [
    {
     "name": "stdout",
     "output_type": "stream",
     "text": []
    }
   ],
   "source": [
    "mkdir -p ~/work/phyloseq_docs\n",
    "cd ~/work/phyloseq_docs"
   ]
  },
  {
   "cell_type": "code",
   "execution_count": 3,
   "metadata": {
    "collapsed": false
   },
   "outputs": [
    {
     "name": "stdout",
     "output_type": "stream",
     "text": [
      "Collecting git+https://github.com/chronitis/ipyrmd\r\n",
      "  Cloning https://github.com/chronitis/ipyrmd to /tmp/pip-bdsiwfhu-build\r\n",
      "Requirement already satisfied (use --upgrade to upgrade): nbformat in /opt/conda/lib/python3.5/site-packages (from ipyrmd==0.3)\r\n",
      "Requirement already satisfied (use --upgrade to upgrade): pyyaml in /opt/conda/lib/python3.5/site-packages (from ipyrmd==0.3)\r\n",
      "Installing collected packages: ipyrmd\r\n",
      "  Running setup.py install for ipyrmd ... \u001b[?25l-\b \b\\\b \bdone\r\n",
      "\u001b[?25hSuccessfully installed ipyrmd-0.3\r\n",
      "\u001b[33mYou are using pip version 8.1.1, however version 8.1.2 is available.\r\n",
      "You should consider upgrading via the 'pip install --upgrade pip' command.\u001b[0m\r\n"
     ]
    }
   ],
   "source": [
    "pip install --user git+https://github.com/chronitis/ipyrmd"
   ]
  },
  {
   "cell_type": "code",
   "execution_count": 4,
   "metadata": {
    "collapsed": false
   },
   "outputs": [
    {
     "name": "stdout",
     "output_type": "stream",
     "text": [
      "--2016-05-26 07:00:22--  https://raw.githubusercontent.com/joey711/phyloseq/gh-pages/import-data.rmd\r\n",
      "Resolving raw.githubusercontent.com (raw.githubusercontent.com)... 199.27.76.133\r\n",
      "Connecting to raw.githubusercontent.com (raw.githubusercontent.com)|199.27.76.133|:443... connected.\r\n",
      "HTTP request sent, awaiting response... 200 OK\r\n",
      "Length: 18576 (18K) [text/plain]\r\n",
      "Saving to: ‘import-data.rmd’\r\n",
      "\r\n",
      "\r",
      "import-data.rmd       0%[                      ]       0  --.-KB/s             \r",
      "import-data.rmd     100%[=====================>]  18.14K  --.-KB/s   in 0.03s  \r\n",
      "\r\n",
      "2016-05-26 07:00:23 (522 KB/s) - ‘import-data.rmd’ saved [18576/18576]\r\n",
      "\r\n",
      "Converting (Rmd->ipynb) \"import-data.rmd\" to \"import-data.ipynb\"\r\n",
      "Inline R code detected - treated as text\r\n",
      "Inline R code detected - treated as text\r\n"
     ]
    }
   ],
   "source": [
    "# https://raw.githubusercontent.com/joey711/phyloseq/gh-pages/import-data.rmd\n",
    "for CURDOC in import-data\n",
    "do\n",
    "    wget https://raw.githubusercontent.com/joey711/phyloseq/gh-pages/${CURDOC}.rmd\n",
    "    /home/jovyan/.local/bin/ipyrmd --to ipynb --from Rmd -o ${CURDOC}.ipynb ${CURDOC}.rmd\n",
    "done"
   ]
  },
  {
   "cell_type": "code",
   "execution_count": 5,
   "metadata": {
    "collapsed": false
   },
   "outputs": [
    {
     "name": "stdout",
     "output_type": "stream",
     "text": [
      "--2016-05-26 07:00:28--  https://raw.githubusercontent.com/joey711/phyloseq-demo/gh-pages/phyloseq-demo.rmd\r\n",
      "Resolving raw.githubusercontent.com (raw.githubusercontent.com)... 199.27.76.133\r\n",
      "Connecting to raw.githubusercontent.com (raw.githubusercontent.com)|199.27.76.133|:443... connected.\r\n",
      "HTTP request sent, awaiting response... 200 OK\r\n",
      "Length: 51766 (51K) [text/plain]\r\n",
      "Saving to: ‘phyloseq-demo.rmd’\r\n",
      "\r\n",
      "\r",
      "phyloseq-demo.rmd     0%[                      ]       0  --.-KB/s             \r",
      "phyloseq-demo.rmd   100%[=====================>]  50.55K  --.-KB/s   in 0.08s  \r\n",
      "\r\n",
      "2016-05-26 07:00:29 (662 KB/s) - ‘phyloseq-demo.rmd’ saved [51766/51766]\r\n",
      "\r\n",
      "Converting (Rmd->ipynb) \"phyloseq-demo.rmd\" to \"phyloseq-demo.ipynb\"\r\n",
      "Error reading document metadata block: expected '<document start>', but found '<scalar>'\r\n",
      "  in \"<unicode string>\", line 19, column 1:\r\n",
      "    There is a GitHub-hosted [issue- ... \r\n",
      "    ^\r\n",
      "Trying to continue without header\r\n",
      "Inline R code detected - treated as text\r\n",
      "Inline R code detected - treated as text\r\n",
      "Inline R code detected - treated as text\r\n",
      "Inline R code detected - treated as text\r\n"
     ]
    }
   ],
   "source": [
    "# https://raw.githubusercontent.com/joey711/phyloseq-demo/gh-pages/phyloseq-demo.rmd\n",
    "for CURDOC in phyloseq-demo\n",
    "do\n",
    "    wget https://raw.githubusercontent.com/joey711/phyloseq-demo/gh-pages/${CURDOC}.rmd\n",
    "    /home/jovyan/.local/bin/ipyrmd --to ipynb --from Rmd -o ${CURDOC}.ipynb ${CURDOC}.rmd\n",
    "done"
   ]
  },
  {
   "cell_type": "code",
   "execution_count": 6,
   "metadata": {
    "collapsed": false
   },
   "outputs": [
    {
     "name": "stdout",
     "output_type": "stream",
     "text": [
      "import-data.ipynb  phyloseq-demo.ipynb  phyloseq_import_data.ipynb\r\n",
      "import-data.rmd    phyloseq-demo.rmd\r\n"
     ]
    }
   ],
   "source": [
    "ls"
   ]
  },
  {
   "cell_type": "code",
   "execution_count": 7,
   "metadata": {
    "collapsed": false
   },
   "outputs": [
    {
     "name": "stdout",
     "output_type": "stream",
     "text": [
      "rm: cannot remove ‘*.Rmd’: No such file or directory\r\n"
     ]
    }
   ],
   "source": [
    "rm *.Rmd *.rmd"
   ]
  },
  {
   "cell_type": "code",
   "execution_count": null,
   "metadata": {
    "collapsed": true
   },
   "outputs": [],
   "source": []
  }
 ],
 "metadata": {
  "kernelspec": {
   "display_name": "Bash",
   "language": "bash",
   "name": "bash"
  },
  "language_info": {
   "codemirror_mode": "shell",
   "file_extension": ".sh",
   "mimetype": "text/x-sh",
   "name": "bash"
  }
 },
 "nbformat": 4,
 "nbformat_minor": 0
}
