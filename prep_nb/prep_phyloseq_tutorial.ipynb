{
 "cells": [
  {
   "cell_type": "code",
   "execution_count": 1,
   "metadata": {
    "collapsed": false
   },
   "outputs": [
    {
     "name": "stdout",
     "output_type": "stream",
     "text": []
    }
   ],
   "source": [
    "mkdir -p ~/work/phyloseq_docs\n",
    "cd ~/work/phyloseq_docs"
   ]
  },
  {
   "cell_type": "code",
   "execution_count": 2,
   "metadata": {
    "collapsed": false
   },
   "outputs": [
    {
     "name": "stdout",
     "output_type": "stream",
     "text": [
      "Collecting git+https://github.com/chronitis/ipyrmd\r\n",
      "  Cloning https://github.com/chronitis/ipyrmd to /tmp/pip-z_ppob3s-build\r\n",
      "  Requirement already satisfied (use --upgrade to upgrade): ipyrmd==0.3 from git+https://github.com/chronitis/ipyrmd in /home/jovyan/.local/lib/python3.5/site-packages\r\n",
      "Requirement already satisfied (use --upgrade to upgrade): nbformat in /opt/conda/lib/python3.5/site-packages (from ipyrmd==0.3)\r\n",
      "Requirement already satisfied (use --upgrade to upgrade): pyyaml in /opt/conda/lib/python3.5/site-packages (from ipyrmd==0.3)\r\n",
      "\u001b[33mYou are using pip version 8.1.1, however version 8.1.2 is available.\r\n",
      "You should consider upgrading via the 'pip install --upgrade pip' command.\u001b[0m\r\n"
     ]
    }
   ],
   "source": [
    "pip install --user git+https://github.com/chronitis/ipyrmd"
   ]
  },
  {
   "cell_type": "code",
   "execution_count": 4,
   "metadata": {
    "collapsed": false
   },
   "outputs": [
    {
     "name": "stdout",
     "output_type": "stream",
     "text": [
      "--2016-05-26 05:01:19--  https://raw.githubusercontent.com/joey711/phyloseq/gh-pages/import-data.rmd\r\n",
      "Resolving raw.githubusercontent.com (raw.githubusercontent.com)... 23.235.39.133\r\n",
      "Connecting to raw.githubusercontent.com (raw.githubusercontent.com)|23.235.39.133|:443... connected.\r\n",
      "HTTP request sent, awaiting response... 200 OK\r\n",
      "Length: 18576 (18K) [text/plain]\r\n",
      "Saving to: ‘import-data.rmd’\r\n",
      "\r\n",
      "\r",
      "import-data.rmd       0%[                      ]       0  --.-KB/s             \r",
      "import-data.rmd     100%[=====================>]  18.14K  --.-KB/s   in 0.03s  \r\n",
      "\r\n",
      "2016-05-26 05:01:19 (681 KB/s) - ‘import-data.rmd’ saved [18576/18576]\r\n",
      "\r\n",
      "Converting (Rmd->ipynb) \"import-data.rmd\" to \"import-data.ipynb\"\r\n",
      "Inline R code detected - treated as text\r\n",
      "Inline R code detected - treated as text\r\n"
     ]
    }
   ],
   "source": [
    "# https://raw.githubusercontent.com/joey711/phyloseq/gh-pages/import-data.rmd\n",
    "for CURDOC in import-data\n",
    "do\n",
    "    wget https://raw.githubusercontent.com/joey711/phyloseq/gh-pages/${CURDOC}.rmd\n",
    "    /home/jovyan/.local/bin/ipyrmd --to ipynb --from Rmd -o ${CURDOC}.ipynb ${CURDOC}.rmd\n",
    "done"
   ]
  },
  {
   "cell_type": "code",
   "execution_count": 5,
   "metadata": {
    "collapsed": false
   },
   "outputs": [
    {
     "name": "stdout",
     "output_type": "stream",
     "text": [
      "import-data.ipynb  import-data.rmd\r\n"
     ]
    }
   ],
   "source": [
    "ls"
   ]
  },
  {
   "cell_type": "code",
   "execution_count": 6,
   "metadata": {
    "collapsed": false
   },
   "outputs": [
    {
     "name": "stdout",
     "output_type": "stream",
     "text": [
      "rm: cannot remove ‘*.Rmd’: No such file or directory\r\n"
     ]
    }
   ],
   "source": [
    "rm *.Rmd *.rmd"
   ]
  },
  {
   "cell_type": "code",
   "execution_count": null,
   "metadata": {
    "collapsed": true
   },
   "outputs": [],
   "source": []
  }
 ],
 "metadata": {
  "kernelspec": {
   "display_name": "Bash",
   "language": "bash",
   "name": "bash"
  },
  "language_info": {
   "codemirror_mode": "shell",
   "file_extension": ".sh",
   "mimetype": "text/x-sh",
   "name": "bash"
  }
 },
 "nbformat": 4,
 "nbformat_minor": 0
}
