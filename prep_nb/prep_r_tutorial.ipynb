{
 "cells": [
  {
   "cell_type": "code",
   "execution_count": 19,
   "metadata": {
    "collapsed": false
   },
   "outputs": [
    {
     "name": "stdout",
     "output_type": "stream",
     "text": []
    }
   ],
   "source": [
    "mkdir -p ~/work/swc_r_docs\n",
    "cd ~/work/swc_r_docs"
   ]
  },
  {
   "cell_type": "code",
   "execution_count": 20,
   "metadata": {
    "collapsed": false
   },
   "outputs": [
    {
     "name": "stdout",
     "output_type": "stream",
     "text": [
      "Collecting git+https://github.com/chronitis/ipyrmd\r\n",
      "  Cloning https://github.com/chronitis/ipyrmd to /tmp/pip-o2r7us2u-build\r\n",
      "  Requirement already satisfied (use --upgrade to upgrade): ipyrmd==0.3 from git+https://github.com/chronitis/ipyrmd in /home/jovyan/.local/lib/python3.5/site-packages\r\n",
      "Requirement already satisfied (use --upgrade to upgrade): nbformat in /opt/conda/lib/python3.5/site-packages (from ipyrmd==0.3)\r\n",
      "Requirement already satisfied (use --upgrade to upgrade): pyyaml in /opt/conda/lib/python3.5/site-packages (from ipyrmd==0.3)\r\n",
      "\u001b[33mYou are using pip version 8.1.1, however version 8.1.2 is available.\r\n",
      "You should consider upgrading via the 'pip install --upgrade pip' command.\u001b[0m\r\n"
     ]
    }
   ],
   "source": [
    "pip install --user git+https://github.com/chronitis/ipyrmd"
   ]
  },
  {
   "cell_type": "code",
   "execution_count": 21,
   "metadata": {
    "collapsed": false
   },
   "outputs": [
    {
     "name": "stdout",
     "output_type": "stream",
     "text": [
      "--2016-05-24 15:31:59--  https://raw.githubusercontent.com/swcarpentry/r-novice-inflammation/gh-pages/01-starting-with-data.Rmd\r\n",
      "Resolving raw.githubusercontent.com (raw.githubusercontent.com)... 23.235.39.133\r\n",
      "Connecting to raw.githubusercontent.com (raw.githubusercontent.com)|23.235.39.133|:443... connected.\r\n",
      "HTTP request sent, awaiting response... 200 OK\r\n",
      "Length: 15075 (15K) [text/plain]\r\n",
      "Saving to: ‘01-starting-with-data.Rmd’\r\n",
      "\r\n",
      "\r",
      "01-starting-with-da   0%[                      ]       0  --.-KB/s             \r",
      "01-starting-with-da 100%[=====================>]  14.72K  --.-KB/s   in 0.03s  \r\n",
      "\r\n",
      "2016-05-24 15:31:59 (554 KB/s) - ‘01-starting-with-data.Rmd’ saved [15075/15075]\r\n",
      "\r\n",
      "Converting (Rmd->ipynb) \"01-starting-with-data.Rmd\" to \"01-starting-with-data.ipynb\"\r\n",
      "Inline R code detected - treated as text\r\n",
      "Inline R code detected - treated as text\r\n",
      "Inline R code detected - treated as text\r\n",
      "Inline R code detected - treated as text\r\n",
      "Inline R code detected - treated as text\r\n",
      "Inline R code detected - treated as text\r\n",
      "Inline R code detected - treated as text\r\n",
      "Inline R code detected - treated as text\r\n",
      "Inline R code detected - treated as text\r\n",
      "Inline R code detected - treated as text\r\n",
      "Inline R code detected - treated as text\r\n"
     ]
    }
   ],
   "source": [
    "# https://raw.githubusercontent.com/swcarpentry/r-novice-inflammation/gh-pages/01-starting-with-data.Rmd\n",
    "for CURDOC in 01-starting-with-data\n",
    "do\n",
    "    wget https://raw.githubusercontent.com/swcarpentry/r-novice-inflammation/gh-pages/${CURDOC}.Rmd\n",
    "    /home/jovyan/.local/bin/ipyrmd --to ipynb --from Rmd -o ${CURDOC}.ipynb ${CURDOC}.Rmd\n",
    "done"
   ]
  },
  {
   "cell_type": "code",
   "execution_count": 22,
   "metadata": {
    "collapsed": false
   },
   "outputs": [
    {
     "name": "stdout",
     "output_type": "stream",
     "text": [
      "--2016-05-24 15:32:00--  https://raw.githubusercontent.com/swcarpentry/r-novice-inflammation/gh-pages/index.md\r\n",
      "Resolving raw.githubusercontent.com (raw.githubusercontent.com)... 23.235.39.133\r\n",
      "Connecting to raw.githubusercontent.com (raw.githubusercontent.com)|23.235.39.133|:443... connected.\r\n",
      "HTTP request sent, awaiting response... 200 OK\r\n",
      "Length: 3358 (3.3K) [text/plain]\r\n",
      "Saving to: ‘index.md’\r\n",
      "\r\n",
      "\r",
      "index.md              0%[                      ]       0  --.-KB/s             \r",
      "index.md            100%[=====================>]   3.28K  --.-KB/s   in 0s     \r\n",
      "\r\n",
      "2016-05-24 15:32:00 (23.5 MB/s) - ‘index.md’ saved [3358/3358]\r\n",
      "\r\n",
      "Converting (Rmd->ipynb) \"index.md\" to \"index.ipynb\"\r\n",
      "Inline R code detected - treated as text\r\n"
     ]
    }
   ],
   "source": [
    "# https://raw.githubusercontent.com/swcarpentry/r-novice-inflammation/gh-pages/index.md\n",
    "for CURDOC in index\n",
    "do\n",
    "    wget https://raw.githubusercontent.com/swcarpentry/r-novice-inflammation/gh-pages/${CURDOC}.md\n",
    "    /home/jovyan/.local/bin/ipyrmd --to ipynb --from Rmd -o ${CURDOC}.ipynb ${CURDOC}.md\n",
    "done"
   ]
  },
  {
   "cell_type": "code",
   "execution_count": 23,
   "metadata": {
    "collapsed": false
   },
   "outputs": [
    {
     "name": "stdout",
     "output_type": "stream",
     "text": [
      "01-starting-with-data.ipynb  01-starting-with-data.Rmd  index.ipynb  index.md\r\n"
     ]
    }
   ],
   "source": [
    "ls"
   ]
  },
  {
   "cell_type": "code",
   "execution_count": 24,
   "metadata": {
    "collapsed": false
   },
   "outputs": [
    {
     "name": "stdout",
     "output_type": "stream",
     "text": []
    }
   ],
   "source": [
    "rm *.Rmd *.md"
   ]
  },
  {
   "cell_type": "code",
   "execution_count": null,
   "metadata": {
    "collapsed": true
   },
   "outputs": [],
   "source": []
  }
 ],
 "metadata": {
  "kernelspec": {
   "display_name": "Bash",
   "language": "bash",
   "name": "bash"
  },
  "language_info": {
   "codemirror_mode": "shell",
   "file_extension": ".sh",
   "mimetype": "text/x-sh",
   "name": "bash"
  }
 },
 "nbformat": 4,
 "nbformat_minor": 0
}
