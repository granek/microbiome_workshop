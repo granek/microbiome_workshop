{
 "cells": [
  {
   "cell_type": "code",
   "execution_count": 1,
   "metadata": {
    "collapsed": false
   },
   "outputs": [
    {
     "name": "stdout",
     "output_type": "stream",
     "text": []
    }
   ],
   "source": [
    "WORKDIR=$HOME/work/swc_r_docs\n",
    "mkdir -p $WORKDIR\n",
    "cd $WORKDIR"
   ]
  },
  {
   "cell_type": "code",
   "execution_count": null,
   "metadata": {
    "collapsed": false
   },
   "outputs": [],
   "source": [
    "pip install --user git+https://github.com/chronitis/ipyrmd"
   ]
  },
  {
   "cell_type": "code",
   "execution_count": null,
   "metadata": {
    "collapsed": false
   },
   "outputs": [],
   "source": [
    "# https://raw.githubusercontent.com/swcarpentry/r-novice-inflammation/gh-pages/01-starting-with-data.Rmd\n",
    "for CURDOC in 01-starting-with-data\n",
    "do\n",
    "    wget https://raw.githubusercontent.com/swcarpentry/r-novice-inflammation/gh-pages/${CURDOC}.Rmd\n",
    "    /home/jovyan/.local/bin/ipyrmd --to ipynb --from Rmd -o ${CURDOC}.ipynb ${CURDOC}.Rmd\n",
    "done"
   ]
  },
  {
   "cell_type": "code",
   "execution_count": null,
   "metadata": {
    "collapsed": false
   },
   "outputs": [],
   "source": [
    "# https://raw.githubusercontent.com/swcarpentry/r-novice-inflammation/gh-pages/index.md\n",
    "for CURDOC in index\n",
    "do\n",
    "    wget https://raw.githubusercontent.com/swcarpentry/r-novice-inflammation/gh-pages/${CURDOC}.md\n",
    "    /home/jovyan/.local/bin/ipyrmd --to ipynb --from Rmd -o ${CURDOC}.ipynb ${CURDOC}.md\n",
    "done"
   ]
  },
  {
   "cell_type": "code",
   "execution_count": 4,
   "metadata": {
    "collapsed": false
   },
   "outputs": [
    {
     "name": "stdout",
     "output_type": "stream",
     "text": [
      "0\r\n"
     ]
    }
   ],
   "source": [
    "ls"
   ]
  },
  {
   "cell_type": "code",
   "execution_count": null,
   "metadata": {
    "collapsed": false
   },
   "outputs": [],
   "source": [
    "rm *.Rmd *.md"
   ]
  },
  {
   "cell_type": "code",
   "execution_count": 3,
   "metadata": {
    "collapsed": false
   },
   "outputs": [
    {
     "name": "stdout",
     "output_type": "stream",
     "text": [
      "--2016-05-24 20:13:38--  https://raw.githubusercontent.com/swcarpentry/r-novice-inflammation/gh-pages/fig/python-sticky-note-variables-01.svg\r\n",
      "Resolving raw.githubusercontent.com (raw.githubusercontent.com)... 23.235.39.133\r\n",
      "Connecting to raw.githubusercontent.com (raw.githubusercontent.com)|23.235.39.133|:443... connected.\r\n",
      "HTTP request sent, awaiting response... 200 OK\r\n",
      "Length: 6954 (6.8K) [text/plain]\r\n",
      "Saving to: ‘python-sticky-note-variables-01.svg.1’\r\n",
      "\r\n",
      "\r",
      "python-sticky-note-   0%[                      ]       0  --.-KB/s             \r",
      "python-sticky-note- 100%[=====================>]   6.79K  --.-KB/s   in 0s     \r\n",
      "\r\n",
      "2016-05-24 20:13:38 (33.5 MB/s) - ‘python-sticky-note-variables-01.svg.1’ saved [6954/6954]\r\n",
      "\r\n",
      "--2016-05-24 20:13:38--  https://raw.githubusercontent.com/swcarpentry/r-novice-inflammation/gh-pages/fig/python-sticky-note-variables-02.svg\r\n",
      "Resolving raw.githubusercontent.com (raw.githubusercontent.com)... 23.235.39.133\r\n",
      "Connecting to raw.githubusercontent.com (raw.githubusercontent.com)|23.235.39.133|:443... connected.\r\n",
      "HTTP request sent, awaiting response... 200 OK\r\n",
      "Length: 8393 (8.2K) [text/plain]\r\n",
      "Saving to: ‘python-sticky-note-variables-02.svg.1’\r\n",
      "\r\n",
      "\r",
      "python-sticky-note-   0%[                      ]       0  --.-KB/s             \r",
      "python-sticky-note- 100%[=====================>]   8.20K  --.-KB/s   in 0s     \r\n",
      "\r\n",
      "2016-05-24 20:13:38 (45.4 MB/s) - ‘python-sticky-note-variables-02.svg.1’ saved [8393/8393]\r\n",
      "\r\n",
      "--2016-05-24 20:13:38--  https://raw.githubusercontent.com/swcarpentry/r-novice-inflammation/gh-pages/fig/python-sticky-note-variables-03.svg\r\n",
      "Resolving raw.githubusercontent.com (raw.githubusercontent.com)... 23.235.39.133\r\n",
      "Connecting to raw.githubusercontent.com (raw.githubusercontent.com)|23.235.39.133|:443... connected.\r\n",
      "HTTP request sent, awaiting response... 200 OK\r\n",
      "Length: 8394 (8.2K) [text/plain]\r\n",
      "Saving to: ‘python-sticky-note-variables-03.svg.1’\r\n",
      "\r\n",
      "\r",
      "python-sticky-note-   0%[                      ]       0  --.-KB/s             \r",
      "python-sticky-note- 100%[=====================>]   8.20K  --.-KB/s   in 0s     \r\n",
      "\r\n",
      "2016-05-24 20:13:38 (44.8 MB/s) - ‘python-sticky-note-variables-03.svg.1’ saved [8394/8394]\r\n",
      "\r\n",
      "--2016-05-24 20:13:38--  https://raw.githubusercontent.com/swcarpentry/r-novice-inflammation/gh-pages/fig/r-operations-across-axes.svg\r\n",
      "Resolving raw.githubusercontent.com (raw.githubusercontent.com)... 23.235.39.133\r\n",
      "Connecting to raw.githubusercontent.com (raw.githubusercontent.com)|23.235.39.133|:443... connected.\r\n",
      "HTTP request sent, awaiting response... 200 OK\r\n",
      "Length: 15430 (15K) [text/plain]\r\n",
      "Saving to: ‘r-operations-across-axes.svg.1’\r\n",
      "\r\n",
      "\r",
      "r-operations-across   0%[                      ]       0  --.-KB/s             \r",
      "r-operations-across 100%[=====================>]  15.07K  --.-KB/s   in 0.01s  \r\n",
      "\r\n",
      "2016-05-24 20:13:38 (1.10 MB/s) - ‘r-operations-across-axes.svg.1’ saved [15430/15430]\r\n",
      "\r\n"
     ]
    }
   ],
   "source": [
    "mkdir -p $WORKDIR/fig\n",
    "cd $WORKDIR/fig\n",
    "for CURDOC in python-sticky-note-variables-01.svg python-sticky-note-variables-02.svg python-sticky-note-variables-03.svg r-operations-across-axes.svg\n",
    "do\n",
    "    wget https://raw.githubusercontent.com/swcarpentry/r-novice-inflammation/gh-pages/fig/${CURDOC}\n",
    "done\n",
    "cd $WORKDIR"
   ]
  },
  {
   "cell_type": "code",
   "execution_count": 5,
   "metadata": {
    "collapsed": false
   },
   "outputs": [
    {
     "name": "stdout",
     "output_type": "stream",
     "text": [
      "0\r\n"
     ]
    }
   ],
   "source": [
    "ls"
   ]
  },
  {
   "cell_type": "code",
   "execution_count": 6,
   "metadata": {
    "collapsed": false
   },
   "outputs": [
    {
     "name": "stdout",
     "output_type": "stream",
     "text": [
      "0\r\n"
     ]
    }
   ],
   "source": [
    "pwd"
   ]
  },
  {
   "cell_type": "code",
   "execution_count": null,
   "metadata": {
    "collapsed": true
   },
   "outputs": [],
   "source": []
  }
 ],
 "metadata": {
  "kernelspec": {
   "display_name": "Bash",
   "language": "bash",
   "name": "bash"
  },
  "language_info": {
   "codemirror_mode": "shell",
   "file_extension": ".sh",
   "mimetype": "text/x-sh",
   "name": "bash"
  }
 },
 "nbformat": 4,
 "nbformat_minor": 0
}
