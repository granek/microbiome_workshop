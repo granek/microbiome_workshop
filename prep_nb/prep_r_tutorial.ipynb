{
 "cells": [
  {
   "cell_type": "code",
   "execution_count": null,
   "metadata": {
    "collapsed": false
   },
   "outputs": [],
   "source": [
    "mkdir -p ~/work/swc_r_docs\n",
    "cd ~/work/swc_r_docs"
   ]
  },
  {
   "cell_type": "code",
   "execution_count": null,
   "metadata": {
    "collapsed": false
   },
   "outputs": [],
   "source": [
    "pip install --user git+https://github.com/chronitis/ipyrmd"
   ]
  },
  {
   "cell_type": "code",
   "execution_count": null,
   "metadata": {
    "collapsed": false
   },
   "outputs": [],
   "source": [
    "# https://raw.githubusercontent.com/swcarpentry/r-novice-inflammation/gh-pages/01-starting-with-data.Rmd\n",
    "for CURDOC in 01-starting-with-data\n",
    "do\n",
    "    wget https://raw.githubusercontent.com/swcarpentry/r-novice-inflammation/gh-pages/${CURDOC}.Rmd\n",
    "    /home/jovyan/.local/bin/ipyrmd --to ipynb --from Rmd -o ${CURDOC}.ipynb ${CURDOC}.Rmd\n",
    "done"
   ]
  },
  {
   "cell_type": "code",
   "execution_count": null,
   "metadata": {
    "collapsed": false
   },
   "outputs": [],
   "source": [
    "# https://raw.githubusercontent.com/swcarpentry/r-novice-inflammation/gh-pages/index.md\n",
    "for CURDOC in index\n",
    "do\n",
    "    wget https://raw.githubusercontent.com/swcarpentry/r-novice-inflammation/gh-pages/${CURDOC}.md\n",
    "    /home/jovyan/.local/bin/ipyrmd --to ipynb --from Rmd -o ${CURDOC}.ipynb ${CURDOC}.md\n",
    "done"
   ]
  },
  {
   "cell_type": "code",
   "execution_count": null,
   "metadata": {
    "collapsed": false
   },
   "outputs": [],
   "source": [
    "ls"
   ]
  },
  {
   "cell_type": "code",
   "execution_count": null,
   "metadata": {
    "collapsed": false
   },
   "outputs": [],
   "source": [
    "rm *.Rmd *.md"
   ]
  }
 ],
 "metadata": {
  "kernelspec": {
   "display_name": "Bash",
   "language": "bash",
   "name": "bash"
  },
  "language_info": {
   "codemirror_mode": "shell",
   "file_extension": ".sh",
   "mimetype": "text/x-sh",
   "name": "bash"
  }
 },
 "nbformat": 4,
 "nbformat_minor": 0
}
