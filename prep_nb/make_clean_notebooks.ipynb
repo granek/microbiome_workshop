{
 "cells": [
  {
   "cell_type": "code",
   "execution_count": 1,
   "metadata": {
    "collapsed": false
   },
   "outputs": [
    {
     "name": "stdout",
     "output_type": "stream",
     "text": [
      "/home/jovyan/work/workshop_nb/download_through_jupyter.ipynb\r\n",
      "/home/jovyan/work/workshop_nb/update_notebooks.ipynb\r\n",
      "/home/jovyan/work/workshop_nb/jupyter_tutorial_clean.ipynb\r\n",
      "/home/jovyan/work/workshop_nb/bash_tutorial.ipynb\r\n",
      "/home/jovyan/work/workshop_nb/jupyter_tutorial.ipynb\r\n"
     ]
    }
   ],
   "source": [
    "find ~/work/workshop_nb -name \"*.ipynb\" | grep -v \".ipynb_checkpoints\" | xargs -n1 echo"
   ]
  },
  {
   "cell_type": "code",
   "execution_count": 4,
   "metadata": {
    "collapsed": false
   },
   "outputs": [
    {
     "name": "stdout",
     "output_type": "stream",
     "text": [
      "Python 2.7.9\r\n"
     ]
    }
   ],
   "source": [
    "python2 -V"
   ]
  },
  {
   "cell_type": "code",
   "execution_count": 9,
   "metadata": {
    "collapsed": false
   },
   "outputs": [
    {
     "name": "stdout",
     "output_type": "stream",
     "text": [
      "usage: strip_code_blocks.py [-h] [-o OUTFILE] JUPYTER_NOTEBOOK\r\n",
      "\r\n",
      "Strip code blocks from a Jupyter notebook\r\n",
      "\r\n",
      "positional arguments:\r\n",
      "  JUPYTER_NOTEBOOK\r\n",
      "\r\n",
      "optional arguments:\r\n",
      "  -h, --help            show this help message and exit\r\n",
      "  -o OUTFILE, --output OUTFILE\r\n"
     ]
    }
   ],
   "source": [
    "python2 ~/work/prep_nb/strip_code_blocks.py -h"
   ]
  }
 ],
 "metadata": {
  "kernelspec": {
   "display_name": "Bash",
   "language": "bash",
   "name": "bash"
  },
  "language_info": {
   "codemirror_mode": "shell",
   "file_extension": ".sh",
   "mimetype": "text/x-sh",
   "name": "bash"
  }
 },
 "nbformat": 4,
 "nbformat_minor": 0
}
