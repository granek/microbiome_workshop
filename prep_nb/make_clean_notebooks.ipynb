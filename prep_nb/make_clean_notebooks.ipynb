{
 "cells": [
  {
   "cell_type": "markdown",
   "metadata": {},
   "source": [
    "Strip code cells from workshop notebooks"
   ]
  },
  {
   "cell_type": "code",
   "execution_count": null,
   "metadata": {
    "collapsed": false
   },
   "outputs": [],
   "source": [
    "mkdir -p ~/work/workshop_clean_nb\n",
    "find ~/work/workshop_nb -name \"*.ipynb\" | \\\n",
    "    grep -v \".ipynb_checkpoints\" | \\\n",
    "    xargs -n1 python2 ~/work/prep_nb/strip_code_blocks.py -d ~/work/workshop_clean_nb"
   ]
  }
 ],
 "metadata": {
  "kernelspec": {
   "display_name": "Bash",
   "language": "bash",
   "name": "bash"
  },
  "language_info": {
   "codemirror_mode": "shell",
   "file_extension": ".sh",
   "mimetype": "text/x-sh",
   "name": "bash"
  }
 },
 "nbformat": 4,
 "nbformat_minor": 0
}
