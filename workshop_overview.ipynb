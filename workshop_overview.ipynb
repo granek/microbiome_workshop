{
 "cells": [
  {
   "cell_type": "markdown",
   "metadata": {},
   "source": [
    "## Workshop Sections\n",
    "1. [Jupyter](workshop_nb/jupyter_tutorial.ipynb)\n",
    "1. [R](swc_r_docs/r_tutorial.ipynb)\n",
    "1. [Dada](dada_docs/dada_tutorial.ipynb)\n",
    "1. [Bash](workshop_nb/bash_tutorial.ipynb)\n",
    "1. Qiime\n",
    "1. Phyloseq\n",
    "1. Reproducible Research"
   ]
  },
  {
   "cell_type": "markdown",
   "metadata": {},
   "source": [
    "## Miscellaneous\n",
    "* [Download from VM](workshop_nb/download_through_jupyter.ipynb)\n",
    "* [Update Notebooks](workshop_nb/update_notebooks.ipynb)\n",
    "* [Resources](https://github.com/granek/microbiome_workshop#resources)"
   ]
  }
 ],
 "metadata": {
  "kernelspec": {
   "display_name": "Python 2",
   "language": "python",
   "name": "python2"
  },
  "language_info": {
   "codemirror_mode": {
    "name": "ipython",
    "version": 2
   },
   "file_extension": ".py",
   "mimetype": "text/x-python",
   "name": "python",
   "nbconvert_exporter": "python",
   "pygments_lexer": "ipython2",
   "version": "2.7.11"
  }
 },
 "nbformat": 4,
 "nbformat_minor": 0
}
