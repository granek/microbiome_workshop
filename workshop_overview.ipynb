{
 "cells": [
  {
   "cell_type": "markdown",
   "metadata": {},
   "source": [
    "## Workshop Sections\n",
    "1. [Introduction to Jupyter](workshop_nb/jupyter_tutorial.ipynb)\n",
    "1. [Introduction to R](swc_r_docs/r_tutorial.ipynb)\n",
    "1. [Introduction to Dada](dada_docs/dada_tutorial.ipynb)"
   ]
  },
  {
   "cell_type": "markdown",
   "metadata": {},
   "source": [
    "## Miscellaneous\n",
    "* [Download from VM](workshop_nb/download_through_jupyter.ipynb)\n",
    "* [Update Notebooks](workshop_nb/update_notebooks.ipynb)"
   ]
  }
 ],
 "metadata": {
  "kernelspec": {
   "display_name": "Python 2",
   "language": "python",
   "name": "python2"
  },
  "language_info": {
   "codemirror_mode": {
    "name": "ipython",
    "version": 2
   },
   "file_extension": ".py",
   "mimetype": "text/x-python",
   "name": "python",
   "nbconvert_exporter": "python",
   "pygments_lexer": "ipython2",
   "version": "2.7.11"
  }
 },
 "nbformat": 4,
 "nbformat_minor": 0
}
