{
 "cells": [
  {
   "cell_type": "code",
   "execution_count": null,
   "metadata": {
    "Rmd_chunk_options": "include = FALSE",
    "autoscroll": false,
    "collapsed": true
   },
   "outputs": [],
   "source": [
    "source(\"tools/chunk-options.R\")\n",
    "opts_chunk$set(fig.path = \"fig/01-starting-with-data-\")"
   ]
  },
  {
   "cell_type": "markdown",
   "metadata": {},
   "source": [
    "\n",
    "> ## Learning Objectives {.objectives}\n",
    "> * Read tabular data from a file into a program.\n",
    "> * Assign values to variables.\n",
    "> * Select individual values and subsections from data.\n",
    "> * Perform operations on a data frame of data.\n",
    "> * Display simple graphs.\n",
    "\n",
    "We are studying inflammation in patients who have been given a new treatment for arthritis,\n",
    "and need to analyze the first dozen data sets.\n",
    "The data sets are stored in [comma-separated values](reference.html#comma-separated-values-(csv)) (CSV) format. Each row holds the observations for just one patient. Each column holds the inflammation measured in a day, so we have a set of values in successive days.\n",
    "The first few rows of our first file look like this:\n",
    "\n"
   ]
  },
  {
   "cell_type": "code",
   "execution_count": null,
   "metadata": {
    "Rmd_chunk_options": "echo = FALSE",
    "autoscroll": false,
    "collapsed": true
   },
   "outputs": [],
   "source": [
    "tmp <- read.csv(\"data/inflammation-01.csv\", header = FALSE, nrows = 5)\n",
    "write.table(tmp, quote = FALSE, sep = \",\", row.names = FALSE, col.names = FALSE)\n",
    "rm(tmp)"
   ]
  },
  {
   "cell_type": "markdown",
   "metadata": {},
   "source": [
    "\n",
    "We want to:\n",
    "\n",
    "* Load data into memory,\n",
    "* Calculate the average value of inflammation per day across all patients, and\n",
    "* Plot the results.\n",
    "\n",
    "To do all that, we'll have to learn a little bit about programming.\n",
    "\n",
    "### Loading Data\n",
    "\n",
    "To load our inflammation data, first we need to tell our computer where is the file that contains the values. We have been told its name is `inflammation-01.csv`. This is very important in R, if we forget this step we’ll get an error message when trying to read the file. We can change the current working directory using the function `setwd`. For this example, we change the path to the directory we just created:\n",
    "\n"
   ]
  },
  {
   "cell_type": "code",
   "execution_count": null,
   "metadata": {
    "Rmd_chunk_options": "eval=FALSE",
    "autoscroll": false,
    "collapsed": true
   },
   "outputs": [],
   "source": [
    "setwd(\"~/Desktop/r-novice-inflammation/)"
   ]
  },
  {
   "cell_type": "markdown",
   "metadata": {},
   "source": [
    "\n",
    "Just like in the Unix Shell, we type the command and then press `Enter` (or `return`).\n",
    "Alternatively you can change the working directory using the RStudio GUI using the menu option `Session` -> `Set Working Directory` -> `Choose Directory...`\n",
    "\n",
    "The data files are located in the directory `data` inside the working directory. Now we can load the data into R using `read.csv`:\n",
    "\n"
   ]
  },
  {
   "cell_type": "code",
   "execution_count": null,
   "metadata": {
    "Rmd_chunk_options": "results=\"hide\"",
    "autoscroll": false,
    "collapsed": true
   },
   "outputs": [],
   "source": [
    "read.csv(file = \"data/inflammation-01.csv\", header = FALSE)"
   ]
  },
  {
   "cell_type": "markdown",
   "metadata": {},
   "source": [
    "\n",
    "The expression `read.csv(...)` is a [function call](reference.html#function-call) that asks R to run the function `read.csv`.\n",
    "\n",
    "`read.csv` has two [arguments](reference.html#argument): the name of the file we want to read, and whether the first line of the file contains names for the columns of data.\n",
    "The filename needs to be a character string (or [string](reference.html#string) for short), so we put it in quotes. Assigning the second argument, `header`, to be `FALSE` indicates that the data file does not have column headers. We'll talk more about the value `FALSE`, and its converse `TRUE`, in lesson 04.\n",
    "\n",
    "> ## Tip {.callout}\n",
    ">\n",
    "> `read.csv` actually has many more arguments that you may find useful when\n",
    "> importing your own data in the future. You can learn more about these\n",
    "> options in this supplementary [lesson](01-supp-read-write-csv.html).\n",
    "\n",
    "The utility of a function is that it will perform its given action on whatever value is passed to the named argument(s).\n",
    "For example, in this case if we provided the name of a different file to the argument `file`, `read.csv` would read it instead.\n",
    "We'll learn more of the details about functions and their arguments in the next lesson.\n",
    "\n",
    "Since we didn't tell it to do anything else with the function's output, the console will display the full contents of the file `inflammation-01.csv`.\n",
    "Try it out.\n",
    "\n",
    "`read.csv` read the file, but we can't use data unless we assign it to a variable.\n",
    "A variable is just a name for a value, such as `x`, `current_temperature`, or `subject_id`.\n",
    "We can create a new variable simply by assigning a value to it using `<-`\n",
    "\n"
   ]
  },
  {
   "cell_type": "code",
   "execution_count": null,
   "metadata": {
    "autoscroll": false,
    "collapsed": true
   },
   "outputs": [],
   "source": [
    "weight_kg <- 55"
   ]
  },
  {
   "cell_type": "markdown",
   "metadata": {},
   "source": [
    "\n",
    "Once a variable has a value, we can print it by typing the name of the variable and hitting `Enter` (or `return`).\n",
    "In general, R will print to the console any object returned by a function or operation *unless* we assign it to a variable.\n",
    "\n"
   ]
  },
  {
   "cell_type": "code",
   "execution_count": null,
   "metadata": {
    "autoscroll": false,
    "collapsed": true
   },
   "outputs": [],
   "source": [
    "weight_kg"
   ]
  },
  {
   "cell_type": "markdown",
   "metadata": {},
   "source": [
    "\n",
    "We can do arithmetic with the variable:\n",
    "\n"
   ]
  },
  {
   "cell_type": "code",
   "execution_count": null,
   "metadata": {
    "autoscroll": false,
    "collapsed": true
   },
   "outputs": [],
   "source": [
    "# weight in pounds:\n",
    "2.2 * weight_kg"
   ]
  },
  {
   "cell_type": "markdown",
   "metadata": {},
   "source": [
    "\n",
    "> ## Tip {.callout}\n",
    ">\n",
    "> We can add comments to our code using the `#` character. It is useful to\n",
    "> document our code in this way so that others (and us the next time we\n",
    "> read it) have an easier time following what the code is doing.\n",
    "\n",
    "We can also change an object's value by assigning it a new value:\n",
    "\n"
   ]
  },
  {
   "cell_type": "code",
   "execution_count": null,
   "metadata": {
    "autoscroll": false,
    "collapsed": true
   },
   "outputs": [],
   "source": [
    "weight_kg <- 57.5\n",
    "# weight in kilograms is now\n",
    "weight_kg"
   ]
  },
  {
   "cell_type": "markdown",
   "metadata": {},
   "source": [
    "\n",
    "If we imagine the variable as a sticky note with a name written on it,\n",
    "assignment is like putting the sticky note on a particular value:\n",
    "\n",
    "<img src=\"fig/python-sticky-note-variables-01.svg\" alt=\"Variables as Sticky Notes\" />\n",
    "\n",
    "This means that assigning a value to one object does not change the values of other variables.\n",
    "For example, let's store the subject's weight in pounds in a variable:\n",
    "\n"
   ]
  },
  {
   "cell_type": "code",
   "execution_count": null,
   "metadata": {
    "autoscroll": false,
    "collapsed": true
   },
   "outputs": [],
   "source": [
    "weight_lb <- 2.2 * weight_kg\n",
    "# weight in kg...\n",
    "weight_kg\n",
    "# ...and in pounds\n",
    "weight_lb"
   ]
  },
  {
   "cell_type": "markdown",
   "metadata": {},
   "source": [
    "\n",
    "<img src=\"fig/python-sticky-note-variables-02.svg\" alt=\"Creating Another Variable\" />\n",
    "\n",
    "and then change `weight_kg`:\n",
    "\n"
   ]
  },
  {
   "cell_type": "code",
   "execution_count": null,
   "metadata": {
    "autoscroll": false,
    "collapsed": true
   },
   "outputs": [],
   "source": [
    "weight_kg <- 100.0\n",
    "# weight in kg now...\n",
    "weight_kg\n",
    "# ...and weight in pounds still\n",
    "weight_lb"
   ]
  },
  {
   "cell_type": "markdown",
   "metadata": {},
   "source": [
    "\n",
    "<img src=\"fig/python-sticky-note-variables-03.svg\" alt=\"Updating a Variable\" />\n",
    "\n",
    "Since `weight_lb` doesn't \"remember\" where its value came from, it isn't automatically updated when `weight_kg` changes.\n",
    "This is different from the way spreadsheets work.\n",
    "\n",
    "> ## Tip {.callout}\n",
    ">An alternative way to print the value of a variable is to use () around the assignment statement. As an example: `(total_weight <- weight_kg + weight_lb)`, adds the values of `weight_kg` and `weight_lb`, assigns the result to the `total_weight`, and finally prints the assigned value of the variable `total_weight`.\n",
    "\n",
    "\n",
    "Now that we know how to assign things to variables, let's re-run `read.csv` and save its result:\n",
    "\n"
   ]
  },
  {
   "cell_type": "code",
   "execution_count": null,
   "metadata": {
    "autoscroll": false,
    "collapsed": true
   },
   "outputs": [],
   "source": [
    "dat <- read.csv(file = \"data/inflammation-01.csv\", header = FALSE)"
   ]
  },
  {
   "cell_type": "markdown",
   "metadata": {},
   "source": [
    "\n",
    "This statement doesn't produce any output because assignment doesn't display anything.\n",
    "If we want to check that our data has been loaded, we can print the variable's value.\n",
    "However, for large data sets it is convenient to use the function `head` to display only the first few rows of data.\n",
    "\n"
   ]
  },
  {
   "cell_type": "code",
   "execution_count": null,
   "metadata": {
    "autoscroll": false,
    "collapsed": true
   },
   "outputs": [],
   "source": [
    "head(dat)"
   ]
  },
  {
   "cell_type": "markdown",
   "metadata": {},
   "source": [
    "\n",
    "> ## Challenge - Assigning values to variables {.challenge}\n",
    ">\n",
    "> Draw diagrams showing what variables refer to what values after each statement in the following program:\n",
    ">\n",
    "~~~{.r}\n",
    "mass <- 47.5\n",
    "age <- 122\n",
    "mass <- mass * 2.0\n",
    "age <- age - 20\n",
    "~~~\n",
    "\n",
    "### Manipulating Data\n",
    "\n",
    "Now that our data is loaded in memory, we can start doing things with it.\n",
    "First, let's ask what type of thing `dat` is:\n",
    "\n"
   ]
  },
  {
   "cell_type": "code",
   "execution_count": null,
   "metadata": {
    "autoscroll": false,
    "collapsed": true
   },
   "outputs": [],
   "source": [
    "class(dat)"
   ]
  },
  {
   "cell_type": "markdown",
   "metadata": {},
   "source": [
    "\n",
    "The output tells us that is a data frame. Think of this structure as a spreadsheet in MS Excel that many of us are familiar with.\n",
    "Data frames are very useful for storing data and you will find them elsewhere when programming in R. A typical data frame of experimental data contains individual observations in rows and variables in columns.\n",
    "\n",
    "We can see the shape, or [dimensions](reference.html#dimensions-(of-an-array)), of the data frame with the function `dim`:\n",
    "\n"
   ]
  },
  {
   "cell_type": "code",
   "execution_count": null,
   "metadata": {
    "autoscroll": false,
    "collapsed": true
   },
   "outputs": [],
   "source": [
    "dim(dat)"
   ]
  },
  {
   "cell_type": "markdown",
   "metadata": {},
   "source": [
    "\n",
    "This tells us that our data frame, `dat`, has `r nrow(dat)` rows and `r ncol(dat)` columns.\n",
    "\n",
    "If we want to get a single value from the data frame, we can provide an [index](reference.html#index) in square brackets, just as we do in math:\n",
    "\n"
   ]
  },
  {
   "cell_type": "code",
   "execution_count": null,
   "metadata": {
    "autoscroll": false,
    "collapsed": true
   },
   "outputs": [],
   "source": [
    "# first value in dat\n",
    "dat[1, 1]\n",
    "# middle value in dat\n",
    "dat[30, 20]"
   ]
  },
  {
   "cell_type": "markdown",
   "metadata": {},
   "source": [
    "\n",
    "An index like `[30, 20]` selects a single element of a data frame, but we can select whole sections as well.\n",
    "For example, we can select the first ten days (columns) of values for the first four patients (rows) like this:\n",
    "\n"
   ]
  },
  {
   "cell_type": "code",
   "execution_count": null,
   "metadata": {
    "autoscroll": false,
    "collapsed": true
   },
   "outputs": [],
   "source": [
    "dat[1:4, 1:10]"
   ]
  },
  {
   "cell_type": "markdown",
   "metadata": {},
   "source": [
    "\n",
    "The [slice](reference.html#slice) `1:4` means, \"Start at index 1 and go to index 4.\"\n",
    "\n",
    "The slice does not need to start at 1, e.g. the line below selects rows 5 through 10:\n",
    "\n"
   ]
  },
  {
   "cell_type": "code",
   "execution_count": null,
   "metadata": {
    "autoscroll": false,
    "collapsed": true
   },
   "outputs": [],
   "source": [
    "dat[5:10, 1:10]"
   ]
  },
  {
   "cell_type": "markdown",
   "metadata": {},
   "source": [
    "We can use the function `c`, which stands for **c**ombine, to select non-contiguous values:\n",
    "\n"
   ]
  },
  {
   "cell_type": "code",
   "execution_count": null,
   "metadata": {
    "autoscroll": false,
    "collapsed": true
   },
   "outputs": [],
   "source": [
    "dat[c(3, 8, 37, 56), c(10, 14, 29)]"
   ]
  },
  {
   "cell_type": "markdown",
   "metadata": {},
   "source": [
    "\n",
    "We also don't have to provide a slice for either the rows or the columns.\n",
    "If we don't include a slice for the rows, R returns all the rows; if we don't include a slice for the columns, R returns all the columns.\n",
    "If we don't provide a slice for either rows or columns, e.g. `dat[, ]`, R returns the full data frame.\n",
    "\n"
   ]
  },
  {
   "cell_type": "code",
   "execution_count": null,
   "metadata": {
    "autoscroll": false,
    "collapsed": true
   },
   "outputs": [],
   "source": [
    "# All columns from row 5\n",
    "dat[5, ]\n",
    "# All rows from column 16\n",
    "dat[, 16]"
   ]
  },
  {
   "cell_type": "markdown",
   "metadata": {},
   "source": [
    "\n",
    "Now let's perform some common mathematical operations to learn about our inflammation data.\n",
    "When analyzing data we often want to look at partial statistics, such as the maximum value per patient or the average value per day.\n",
    "One way to do this is to select the data we want to create a new temporary data frame, and then perform the calculation on this subset:\n",
    "\n"
   ]
  },
  {
   "cell_type": "code",
   "execution_count": null,
   "metadata": {
    "autoscroll": false,
    "collapsed": true
   },
   "outputs": [],
   "source": [
    "# first row, all of the columns\n",
    "patient_1 <- dat[1, ]\n",
    "# max inflammation for patient 1\n",
    "max(patient_1)"
   ]
  },
  {
   "cell_type": "markdown",
   "metadata": {},
   "source": [
    "\n",
    "We don't actually need to store the row in a variable of its own.\n",
    "Instead, we can combine the selection and the function call:\n",
    "\n"
   ]
  },
  {
   "cell_type": "code",
   "execution_count": null,
   "metadata": {
    "autoscroll": false,
    "collapsed": true
   },
   "outputs": [],
   "source": [
    "# max inflammation for patient 2\n",
    "max(dat[2, ])"
   ]
  },
  {
   "cell_type": "markdown",
   "metadata": {},
   "source": [
    "\n",
    "R also has functions for other common calculations, e.g. finding the minimum, mean, median, and standard deviation of the data:\n",
    "\n"
   ]
  },
  {
   "cell_type": "code",
   "execution_count": null,
   "metadata": {
    "autoscroll": false,
    "collapsed": true
   },
   "outputs": [],
   "source": [
    "# minimum inflammation on day 7\n",
    "min(dat[, 7])\n",
    "# mean inflammation on day 7\n",
    "mean(dat[, 7])\n",
    "# median inflammation on day 7\n",
    "median(dat[, 7])\n",
    "# standard deviation of inflammation on day 7\n",
    "sd(dat[, 7])"
   ]
  },
  {
   "cell_type": "markdown",
   "metadata": {},
   "source": [
    "\n",
    "What if we need the maximum inflammation for all patients, or the average for each day?\n",
    "As the diagram below shows, we want to perform the operation across a margin of the data frame:\n",
    "\n",
    "<img src=\"fig/r-operations-across-axes.svg\" alt=\"Operations Across Axes\" />\n",
    "\n",
    "To support this, we can use the `apply` function.\n",
    "\n",
    "> ## Tip {.callout}\n",
    ">\n",
    "> To learn about a function in R, e.g. `apply`, we can read its help\n",
    "> documention by running `help(apply)` or `?apply`.\n",
    "\n",
    "`apply` allows us to repeat a function on all of the rows (`MARGIN = 1`) or columns (`MARGIN = 2`) of a data frame.\n",
    "\n",
    "Thus, to obtain the average inflammation of each patient we will need to calculate the mean of all of the rows (`MARGIN = 1`) of the data frame.\n",
    "\n"
   ]
  },
  {
   "cell_type": "code",
   "execution_count": null,
   "metadata": {
    "autoscroll": false,
    "collapsed": true
   },
   "outputs": [],
   "source": [
    "avg_patient_inflammation <- apply(dat, 1, mean)"
   ]
  },
  {
   "cell_type": "markdown",
   "metadata": {},
   "source": [
    "\n",
    "And to obtain the average inflammation of each day we will need to calculate the mean of all of the columns (`MARGIN = 2`) of the data frame.\n",
    "\n"
   ]
  },
  {
   "cell_type": "code",
   "execution_count": null,
   "metadata": {
    "autoscroll": false,
    "collapsed": true
   },
   "outputs": [],
   "source": [
    "avg_day_inflammation <- apply(dat, 2, mean)"
   ]
  },
  {
   "cell_type": "markdown",
   "metadata": {},
   "source": [
    "\n",
    "Since the second argument to `apply` is `MARGIN`, the above command is equivalent to `apply(dat, MARGIN = 2, mean)`.\n",
    "We'll learn why this is so in the next lesson.\n",
    "\n",
    "> ## Tip {.callout}\n",
    ">\n",
    "> Some common operations have more efficient alternatives. For example, you\n",
    "> can calculate the row-wise or column-wise means with `rowMeans` and\n",
    "> `colMeans`, respectively.\n",
    "\n",
    "> ## Challenge - Slicing (subsetting) data {.challenge}\n",
    ">\n",
    "> A subsection of a data frame is called a [slice](reference.html#slice).\n",
    "> We can take slices of character vectors as well:\n",
    ">\n",
    "> ```{r}\n",
    "> animal <- c(\"m\", \"o\", \"n\", \"k\", \"e\", \"y\")\n",
    "> # first three characters\n",
    "> animal[1:3]\n",
    "> # last three characters\n",
    "> animal[4:6]\n",
    "> ```\n",
    ">\n",
    "> 1.  If the first four characters are selected using the slice `animal[1:4]`, how can we obtain the first four characters in reverse order?\n",
    ">\n",
    "> 1.  What is `animal[-1]`?\n",
    ">    What is `animal[-4]`?\n",
    ">    Given those answers,\n",
    ">    explain what `animal[-1:-4]` does.\n",
    ">\n",
    "> 1.  Use a slice of `animal` to create a new character vector that spells the word \"eon\", i.e. `c(\"e\", \"o\", \"n\")`.\n",
    "\n",
    "\n",
    "> ## Challenge - Subsetting data 2 {.challenge}\n",
    ">\n",
    "> Suppose you want to determine the maximum inflamation for patient 5 across days three to seven.\n",
    "> To do this you would extract the relevant slice from the data frame and calculate the maximum value.\n",
    "> Which of the following lines of R code gives the correct answer?\n",
    ">\n",
    "> (a) `max(dat[5, ])`\n",
    "> (b) `max(dat[3:7, 5])`\n",
    "> (c) `max(dat[5, 3:7])`\n",
    "> (d) `max(dat[5, 3, 7])`\n",
    "\n",
    "### Plotting\n",
    "\n",
    "The mathematician Richard Hamming once said, \"The purpose of computing is insight, not numbers,\" and the best way to develop insight is often to visualize data.\n",
    "Visualization deserves an entire lecture (or course) of its own, but we can explore a few of R's plotting features.\n",
    "\n",
    "Let's take a look at the average inflammation over time.\n",
    "Recall that we already calculated these values above using `apply(dat, 2, mean)` and saved them in the variable `avg_day_inflammation`.\n",
    "Plotting the values is done with the function `plot`.\n",
    "\n"
   ]
  },
  {
   "cell_type": "code",
   "execution_count": null,
   "metadata": {
    "Rmd_chunk_options": "plot-avg-inflammation",
    "autoscroll": false,
    "collapsed": true
   },
   "outputs": [],
   "source": [
    "plot(avg_day_inflammation)"
   ]
  },
  {
   "cell_type": "markdown",
   "metadata": {},
   "source": [
    "\n",
    "Above, we gave the function `plot` a vector of numbers corresponding to the average inflammation per day across all patients.\n",
    "`plot` created a scatter plot where the y-axis is the average inflammation level and the x-axis is the order, or index, of the values in the vector, which in this case correspond to the 40 days of treatment.\n",
    "The result is roughly a linear rise and fall, which is suspicious: based on other studies, we expect a sharper rise and slower fall.\n",
    "Let's have a look at two other statistics: the maximum and minimum inflammation per day.\n",
    "\n"
   ]
  },
  {
   "cell_type": "code",
   "execution_count": null,
   "metadata": {
    "Rmd_chunk_options": "plot-max-inflammation",
    "autoscroll": false,
    "collapsed": true
   },
   "outputs": [],
   "source": [
    "max_day_inflammation <- apply(dat, 2, max)\n",
    "plot(max_day_inflammation)"
   ]
  },
  {
   "cell_type": "code",
   "execution_count": null,
   "metadata": {
    "Rmd_chunk_options": "plot-min-inflammation",
    "autoscroll": false,
    "collapsed": true
   },
   "outputs": [],
   "source": [
    "min_day_inflammation <- apply(dat, 2, min)\n",
    "plot(min_day_inflammation)"
   ]
  },
  {
   "cell_type": "markdown",
   "metadata": {},
   "source": [
    "\n",
    "The maximum value rises and falls perfectly smoothly, while the minimum seems to be a step function. Neither result seems particularly likely, so either there's a mistake in our calculations or something is wrong with our data.\n",
    "\n",
    "> ## Challenge - Plotting data {.challenge}\n",
    ">\n",
    "> Create a plot showing the standard deviation of the inflammation data for each day across all patients.\n",
    "\n",
    "> ## Key Points {.callout}\n",
    ">\n",
    "> * Use `variable <- value` to assign a value to a variable in order to record it in memory.\n",
    "> * Objects are created on demand whenever a value is assigned to them.\n",
    "> * The function `dim` gives the dimensions of a data frame.\n",
    "> * Use `object[x, y]` to select a single element from a data frame.\n",
    "> * Use `from:to` to specify a sequence that includes the indices from `from` to\n",
    ">`to`.\n",
    "> * All the indexing and slicing that works on data frames also works on vectors.\n",
    "> * Use `#` to add comments to programs.\n",
    "> * Use `mean`, `max`, `min` and `sd` to calculate simple statistics.\n",
    "> * Use `apply` to calculate statistics across the rows or columns of a data frame.\n",
    "> * Use `plot` to create simple visualizations.\n",
    "\n",
    "> ## Next Steps {.callout}\n",
    ">\n",
    "> Our work so far has convinced us that something's wrong with our first data file.\n",
    "> We would like to check the other 11 the same way, but typing in the same commands repeatedly is tedious and error-prone.\n",
    "> Since computers don't get bored (that we know of), we should create a way to do a complete analysis with a single command, and then figure out how to repeat that step once for each file.\n",
    "> These operations are the subjects of the next two lessons.\n"
   ]
  },
  {
   "cell_type": "markdown",
   "metadata": {},
   "source": [
    "* * *\n",
    "This derived from:\n",
    "- https://raw.githubusercontent.com/swcarpentry/r-novice-inflammation/gh-pages/index.md\n",
    "- https://raw.githubusercontent.com/swcarpentry/r-novice-inflammation/gh-pages/01-starting-with-data.Rmd"
   ]
  }
 ],
 "metadata": {
  "Rmd_header": {
   "layout": "page",
   "minutes": 30,
   "subtitle": "Analyzing patient data",
   "title": "Programming with R"
  },
  "kernelspec": {
   "display_name": "R",
   "language": "R",
   "name": "ir"
  },
  "language_info": {
   "codemirror_mode": "r",
   "file_extension": ".r",
   "mimetype": "text/x-r-source",
   "name": "R",
   "pygments_lexer": "r",
   "version": "3.2.2"
  }
 },
 "nbformat": 4,
 "nbformat_minor": 0
}
