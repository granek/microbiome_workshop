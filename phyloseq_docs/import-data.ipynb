{
 "cells": [
  {
   "cell_type": "markdown",
   "metadata": {},
   "source": [
    "# Importing phyloseq Data\n",
    "\n",
    "Phyloseq is a very useful R library for working with microbiome data. It can import data in a large number of formats, but the most important is the [BIOM format](http://biom-format.org/), because it is a standard format for many microbiome data analysis tools.\n",
    "\n",
    "We will explore BIOM importing by importing the BIOM output file we generated with QIIME, and making a few figures.\n",
    "\n",
    "---\n",
    "\n",
    "---\n",
    "## Begin examples, load requisite packages\n",
    "\n"
   ]
  },
  {
   "cell_type": "code",
   "execution_count": null,
   "metadata": {
    "Rmd_chunk_options": "package-load, warning=FALSE, message=FALSE",
    "autoscroll": false,
    "collapsed": false
   },
   "outputs": [],
   "source": [
    "library(\"phyloseq\"); packageVersion(\"phyloseq\")\n",
    "library(\"ggplot2\"); packageVersion(\"ggplot2\")"
   ]
  },
  {
   "cell_type": "markdown",
   "metadata": {},
   "source": [
    "\n",
    "Define a default theme for ggplot graphics.\n"
   ]
  },
  {
   "cell_type": "code",
   "execution_count": null,
   "metadata": {
    "Rmd_chunk_options": "gplot-theme",
    "autoscroll": false,
    "collapsed": true
   },
   "outputs": [],
   "source": [
    "theme_set(theme_bw())"
   ]
  },
  {
   "cell_type": "markdown",
   "metadata": {},
   "source": [
    "### import qiime biom\n"
   ]
  },
  {
   "cell_type": "code",
   "execution_count": null,
   "metadata": {
    "collapsed": false
   },
   "outputs": [],
   "source": [
    "qiime_dir = '/home/jovyan/work/workshop_nb/moving_pictures_tutorial-1.9.0/illumina/'\n",
    "list.files(qiime_dir)"
   ]
  },
  {
   "cell_type": "code",
   "execution_count": null,
   "metadata": {
    "autoscroll": false,
    "collapsed": false
   },
   "outputs": [],
   "source": [
    "qiime_biom = file.path(qiime_dir,'otus/otu_table_mc2_w_tax_no_pynast_failures.biom')\n",
    "\n",
    "myData = import_biom(qiime_biom, parseFunction=parse_taxonomy_greengenes)\n",
    "myData"
   ]
  },
  {
   "cell_type": "code",
   "execution_count": null,
   "metadata": {
    "collapsed": false
   },
   "outputs": [],
   "source": [
    "head(tax_table(myData))\n",
    "head(otu_table(myData))"
   ]
  },
  {
   "cell_type": "code",
   "execution_count": null,
   "metadata": {
    "collapsed": false
   },
   "outputs": [],
   "source": [
    "qiime_map_file = file.path(qiime_dir,'map.tsv')\n",
    "qiime_map = import_qiime_sample_data(qiime_map_file)\n",
    "class(qiime_map)\n",
    "head(qiime_map)"
   ]
  },
  {
   "cell_type": "code",
   "execution_count": null,
   "metadata": {
    "collapsed": false
   },
   "outputs": [],
   "source": [
    "myData.wmap = merge_phyloseq(myData, qiime_map)\n",
    "myData.wmap"
   ]
  },
  {
   "cell_type": "code",
   "execution_count": null,
   "metadata": {
    "collapsed": false
   },
   "outputs": [],
   "source": [
    "plot_bar(myData.wmap, x=\"SampleType\", fill=\"Phylum\")"
   ]
  },
  {
   "cell_type": "code",
   "execution_count": null,
   "metadata": {
    "collapsed": false
   },
   "outputs": [],
   "source": [
    "plot_heatmap(myData.wmap, sample.label=\"SampleType\", species.label=\"Phylum\")"
   ]
  },
  {
   "cell_type": "markdown",
   "metadata": {},
   "source": [
    "Based on: https://raw.githubusercontent.com/joey711/phyloseq/gh-pages/import-data.rmd"
   ]
  }
 ],
 "metadata": {
  "Rmd_header": null,
  "kernelspec": {
   "display_name": "R",
   "language": "R",
   "name": "ir"
  },
  "language_info": {
   "codemirror_mode": "r",
   "file_extension": ".r",
   "mimetype": "text/x-r-source",
   "name": "R",
   "pygments_lexer": "r",
   "version": "3.2.2"
  }
 },
 "nbformat": 4,
 "nbformat_minor": 0
}
