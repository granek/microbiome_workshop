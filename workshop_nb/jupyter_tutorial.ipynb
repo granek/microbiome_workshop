{
 "cells": [
  {
   "cell_type": "markdown",
   "metadata": {},
   "source": [
    "# Running Code"
   ]
  },
  {
   "cell_type": "markdown",
   "metadata": {},
   "source": [
    "First and foremost, the Jupyter Notebook is an interactive environment for writing and running code. Jupyter is capable of running code in a wide range of languages. However, this notebook, and the default kernel runs Python code."
   ]
  },
  {
   "cell_type": "markdown",
   "metadata": {},
   "source": [
    "## Code cells allow you to enter and run Python code"
   ]
  },
  {
   "cell_type": "markdown",
   "metadata": {},
   "source": [
    "Run a code cell using `Shift-Enter` or pressing the <button class='btn btn-default btn-xs'><i class=\"icon-play fa fa-play\"></i></button> button in the toolbar above:"
   ]
  },
  {
   "cell_type": "code",
   "execution_count": null,
   "metadata": {
    "collapsed": false
   },
   "outputs": [],
   "source": [
    "a = 10"
   ]
  },
  {
   "cell_type": "code",
   "execution_count": null,
   "metadata": {
    "collapsed": false
   },
   "outputs": [],
   "source": [
    "print(a)"
   ]
  },
  {
   "cell_type": "markdown",
   "metadata": {},
   "source": [
    "`Shift-Enter` is one of many useful keyboard shortcuts available in Jupyter.  You can find more shortcuts through the *Help* menu above, under *Keyboard Shortcuts*."
   ]
  },
  {
   "cell_type": "markdown",
   "metadata": {},
   "source": [
    "## Code cell status\n",
    "The `In [ ]` to the left of the cell tells you that the cell contains code that can be executed. \n",
    "\n",
    "The square brackets tell you the status of the cell:\n",
    "* `In [ ]`: the cell has not been run\n",
    "* `In [*]`: *currently running*\n",
    "* `In [N]`: the cell has been run, it was the Nth cell run in this notebook\n",
    "\n",
    "Watch the `In [ ]` change as you run the following cell."
   ]
  },
  {
   "cell_type": "code",
   "execution_count": null,
   "metadata": {
    "collapsed": false,
    "slideshow": {
     "slide_type": "-"
    }
   },
   "outputs": [],
   "source": [
    "import time\n",
    "print(\"Start sleeping\")\n",
    "time.sleep(5) # do nothing for 5 seconds\n",
    "print(\"Done sleeping\")"
   ]
  },
  {
   "cell_type": "markdown",
   "metadata": {},
   "source": [
    "## Managing the IPython Kernel"
   ]
  },
  {
   "cell_type": "markdown",
   "metadata": {},
   "source": [
    "Code is run in a separate process called the IPython Kernel.  The Kernel can be interrupted or restarted.  Try running the following cell and then hit the <button class='btn btn-default btn-xs'><i class='icon-stop fa fa-stop'></i></button> button in the toolbar above."
   ]
  },
  {
   "cell_type": "code",
   "execution_count": null,
   "metadata": {
    "collapsed": false
   },
   "outputs": [],
   "source": [
    "import time\n",
    "time.sleep(60) # do nothing for 60 seconds"
   ]
  },
  {
   "cell_type": "markdown",
   "metadata": {},
   "source": [
    "If the Kernel dies you will be prompted to restart it. Here we call the low-level system libc.time routine with the wrong argument via\n",
    "ctypes to segfault the Python interpreter:"
   ]
  },
  {
   "cell_type": "code",
   "execution_count": null,
   "metadata": {
    "collapsed": false
   },
   "outputs": [],
   "source": [
    "import sys\n",
    "from ctypes import CDLL\n",
    "# This will crash a Linux or Mac system\n",
    "# equivalent calls can be made on Windows\n",
    "dll = 'dylib' if sys.platform == 'darwin' else 'so.6'\n",
    "libc = CDLL(\"libc.%s\" % dll) \n",
    "libc.time(-1)  # BOOM!!"
   ]
  },
  {
   "cell_type": "markdown",
   "metadata": {},
   "source": [
    "## Cell menu\n",
    "### Run Options\n",
    "\n",
    "The \"Cell\" menu has a number of menu items for running code in different ways. These includes:\n",
    "\n",
    "* Run and Select Below\n",
    "* Run and Insert Below\n",
    "* Run All\n",
    "* Run All Above\n",
    "* Run All Below\n",
    "\n",
    "#### Run All\n",
    "The *Run All* option lets you run the entire analysis in a notebook in one fell swoop\n",
    "\n",
    "### Clear Output\n",
    "The *Cell* menu also has options for cleaning up output\n",
    "* __Cell -> Current Outputs -> Clear__ : \n",
    "clear the output from the current cell\n",
    "* __Cell -> All Outputs -> Clear__ : clear all output in the whole notebook\n",
    "\n",
    "Note that Clear also resets the run indicator to `In [ ]`\n"
   ]
  },
  {
   "cell_type": "markdown",
   "metadata": {},
   "source": [
    "## Restarting the kernels"
   ]
  },
  {
   "cell_type": "markdown",
   "metadata": {},
   "source": [
    "The kernel maintains the state of a notebook's computations. You can reset this state by restarting the kernel. This is done by clicking on the <button class='btn btn-default btn-xs'><i class='fa fa-repeat icon-repeat'></i></button> in the toolbar above."
   ]
  },
  {
   "cell_type": "markdown",
   "metadata": {},
   "source": [
    "## Output is asynchronous"
   ]
  },
  {
   "cell_type": "markdown",
   "metadata": {},
   "source": [
    "All output is displayed asynchronously as it is generated in the Kernel. If you execute the next cell, you will see the output one piece at a time, not all at the end."
   ]
  },
  {
   "cell_type": "code",
   "execution_count": null,
   "metadata": {
    "collapsed": false
   },
   "outputs": [],
   "source": [
    "import time, sys\n",
    "for i in range(8):\n",
    "    print(i)\n",
    "    time.sleep(0.5)"
   ]
  },
  {
   "cell_type": "markdown",
   "metadata": {},
   "source": [
    "## Large outputs"
   ]
  },
  {
   "cell_type": "markdown",
   "metadata": {},
   "source": [
    "To better handle large outputs, the output area can be collapsed. Run the following cell and then single- or double- click on the active area to the left of the output:"
   ]
  },
  {
   "cell_type": "code",
   "execution_count": null,
   "metadata": {
    "collapsed": false,
    "scrolled": true
   },
   "outputs": [],
   "source": [
    "for i in range(50):\n",
    "    print(i)"
   ]
  },
  {
   "cell_type": "markdown",
   "metadata": {},
   "source": [
    "Beyond a certain point, output will scroll automatically:"
   ]
  },
  {
   "cell_type": "code",
   "execution_count": null,
   "metadata": {
    "collapsed": false
   },
   "outputs": [],
   "source": [
    "for i in range(500):\n",
    "    print(2**i - 1)"
   ]
  },
  {
   "cell_type": "markdown",
   "metadata": {},
   "source": [
    "## Different Kernels\n",
    "Look in the top right corner of this window where it says **Python 3**.  This tells you that the current notebook runs the Python programming language (version 3). Jupyter itself is programming language agnostic, it requires a language module, called a kernel, to know how to handle code from a specific language.  \n",
    "\n",
    "To demonstrate this, try to run the following code, which is a version of the above loop that prints 1 to 50, but written in R instead of Python."
   ]
  },
  {
   "cell_type": "code",
   "execution_count": null,
   "metadata": {
    "collapsed": false
   },
   "outputs": [],
   "source": [
    "# R version\n",
    "for (i in 1:50){\n",
    "  print(i)\n",
    "}"
   ]
  },
  {
   "cell_type": "markdown",
   "metadata": {},
   "source": [
    "It isn't python, so the Python 3 kernel doesn't know what to do with it.  There are [Jupyter kernels for a lot of different languages](https://github.com/ipython/ipython/wiki/IPython-kernels-for-other-languages). For today's workshop I have only installed a few:\n",
    "- Python 3\n",
    "- Python 2\n",
    "- R\n",
    "- Bash\n",
    "\n",
    "When you make a new notebook, you choose which kernel it is assigned to, but you can change the kernel by selecting **Change Kernel** from the **Kernel** menu above. Try changing this notebook's kernel to **R**, then running the R version of the loop again. You will notice that the **Python 3** in the top right will change to **R** (as will the logo).  Remember that when you change to the R kernel, the python cells in this notebook will no longer work, so you might want to change back to **Python 3** when you are done!"
   ]
  },
  {
   "cell_type": "markdown",
   "metadata": {},
   "source": [
    "## Notebook Management\n",
    "### Saving Work\n",
    "You can save changes to your notebook, as with most other computer programs: under the *notebook's* **File** menu (not to be confused with your webroswer's File menu) select **Save and Checkpoint**.\n",
    "\n",
    "> ### Tip\n",
    "> The standard keyboard shortcut will generally work, so try command-S on OS X and control-S on Windows.  If it works **(unsaved changes)** at the top of the notebook should change to **(autosaved)**\n",
    "\n",
    "Keep in mind that the notebook is saved on your virtual machine, not your local computer.  The [Download from VM](download_through_jupyter.ipynb) notebook has instructions and code cells for downloading notebooks from the VM to your local computer\n",
    "\n",
    "### Exploring Notebooks\n",
    "Take a couple minutes to explore the notebook menus!"
   ]
  },
  {
   "cell_type": "markdown",
   "metadata": {},
   "source": [
    "* * *\n",
    "This derived from https://raw.githubusercontent.com/ipython/ipython/3.x/examples/Notebook/Running%20Code.ipynb"
   ]
  }
 ],
 "metadata": {
  "kernelspec": {
   "display_name": "Python 3",
   "language": "python",
   "name": "python3"
  },
  "language_info": {
   "codemirror_mode": {
    "name": "ipython",
    "version": 3
   },
   "file_extension": ".py",
   "mimetype": "text/x-python",
   "name": "python",
   "nbconvert_exporter": "python",
   "pygments_lexer": "ipython3",
   "version": "3.5.1"
  }
 },
 "nbformat": 4,
 "nbformat_minor": 0
}
