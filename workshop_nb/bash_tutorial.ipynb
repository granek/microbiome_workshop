{
 "cells": [
  {
   "cell_type": "markdown",
   "metadata": {},
   "source": [
    "# Using the shell in a notebook\n",
    "For some of today's work, we will be using the Unix shell, specifically the Bash shell. You have interacted with the shell a bit already - when you SSHed into your virtual machine to start Jupyter. We will be doing this introduction and the rest of our shell interaction through Jupyter notebooks.  We will be using the Bash kernel (Bash is actually a full fledged programming language, although we won't really be making use of that today)."
   ]
  },
  {
   "cell_type": "code",
   "execution_count": null,
   "metadata": {
    "collapsed": false
   },
   "outputs": [],
   "source": [
    "echo \"Hello World\""
   ]
  },
  {
   "cell_type": "markdown",
   "metadata": {},
   "source": [
    "## Basic Commands\n",
    "Many Unix commands have cryptic names, this has the benefit of saving on typing, but is a hassle for learning.\n",
    "* `pwd` (present working directory) tells what directory we are in\n",
    "* `ls` (list) tells the files in our current directory"
   ]
  },
  {
   "cell_type": "code",
   "execution_count": null,
   "metadata": {
    "collapsed": false
   },
   "outputs": [],
   "source": [
    "pwd"
   ]
  },
  {
   "cell_type": "code",
   "execution_count": null,
   "metadata": {
    "collapsed": false
   },
   "outputs": [],
   "source": [
    "ls"
   ]
  },
  {
   "cell_type": "markdown",
   "metadata": {},
   "source": [
    "# A new directory\n",
    "\n",
    "First let's make a directory for us to work in so that we keep everything from this session in one place, and don't clutter our home directory with the files we are going to generate."
   ]
  },
  {
   "cell_type": "code",
   "execution_count": null,
   "metadata": {
    "collapsed": false
   },
   "outputs": [],
   "source": [
    "mkdir -p ~/test"
   ]
  },
  {
   "cell_type": "markdown",
   "metadata": {},
   "source": [
    "`mkdir` makes a new directory. \n",
    "\n",
    "`-p` tells mkdir to not give an error if the directory we tell it to make already exists.\n",
    "\n",
    "`~/test` tells mkdir that we want to make a new directory named \"test\" in our home directory (\"~\" is a nickname for our home directory)\n",
    "\n",
    "Now let's check to be sure that worked.  We will run `ls` and check that there is a \"test\" directory now."
   ]
  },
  {
   "cell_type": "code",
   "execution_count": null,
   "metadata": {
    "collapsed": false
   },
   "outputs": [],
   "source": [
    "ls"
   ]
  },
  {
   "cell_type": "markdown",
   "metadata": {},
   "source": [
    "Hmm, that didn't work! It is beause by default `ls` tells us the contents of the current directory, but we made \"test\" in our home directory, so we need to tell `ls` that is the directory we want to list"
   ]
  },
  {
   "cell_type": "code",
   "execution_count": null,
   "metadata": {
    "collapsed": false
   },
   "outputs": [],
   "source": [
    "ls ~/"
   ]
  },
  {
   "cell_type": "markdown",
   "metadata": {},
   "source": [
    "The next thing that we need to do is move into our new directory.  To do this, we use the `cd` command (change directory)."
   ]
  },
  {
   "cell_type": "markdown",
   "metadata": {},
   "source": [
    "> ### Tab completion (a brief aside)\n",
    "> If you push the tab key, the shell will fill in the file name that fits the prefix you typed, this can save you a lot of typing! For example, if you type `cd ~/t`, the the tab-key, the shell should automagically extend what you typed to `cd ~/test`. This isn't so useful with such a short directory name, but can be very useful with long directory or file names."
   ]
  },
  {
   "cell_type": "code",
   "execution_count": null,
   "metadata": {
    "collapsed": false
   },
   "outputs": [],
   "source": [
    "cd ~/test/"
   ]
  },
  {
   "cell_type": "markdown",
   "metadata": {},
   "source": [
    "And let's use `pwd` to be sure we have ended up in the right place"
   ]
  },
  {
   "cell_type": "code",
   "execution_count": null,
   "metadata": {
    "collapsed": false
   },
   "outputs": [],
   "source": [
    "pwd"
   ]
  }
 ],
 "metadata": {
  "kernelspec": {
   "display_name": "Bash",
   "language": "bash",
   "name": "bash"
  },
  "language_info": {
   "codemirror_mode": "shell",
   "file_extension": ".sh",
   "mimetype": "text/x-sh",
   "name": "bash"
  }
 },
 "nbformat": 4,
 "nbformat_minor": 0
}
