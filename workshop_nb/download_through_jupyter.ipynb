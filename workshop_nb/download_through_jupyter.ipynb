{
 "cells": [
  {
   "cell_type": "markdown",
   "metadata": {},
   "source": [
    "## Downloading files through Jupyter\n",
    "### Packaging up files\n",
    "Before we can downdload Jupyter notebook files, we need to package them up, otherwise Jupyter will think that you are trying to run it.  We can do this with `tar`.  Using the following command will create a package file (commonly called a tarball) containing all of the notebook files in the current directory.  \n",
    "\n",
    "`-z` tells tar to also gzip (compress) the file\n",
    "`-c` is for \"create\", meaning we are creating a tarball, not unpackaging it\n",
    "`-v` is for \"verbose\", meaning tell us what you are doing\n",
    "`-f my_notebooks.tgz` tells tar what the name of the tarball should be\n",
    "`*.ipynb` tells tar to put all of the files ending in \".ipynb\" in the tarball"
   ]
  },
  {
   "cell_type": "code",
   "execution_count": null,
   "metadata": {
    "collapsed": false
   },
   "outputs": [],
   "source": [
    "!tar -zcvf my_notebooks.tgz *.ipynb"
   ]
  },
  {
   "cell_type": "markdown",
   "metadata": {},
   "source": [
    "### Downloading\n",
    "At this point we can use the following to tell Jupyter to give us a clickable link to our tarball.  Once we run the command, we can download just by clicking on the link."
   ]
  },
  {
   "cell_type": "code",
   "execution_count": null,
   "metadata": {
    "collapsed": false
   },
   "outputs": [],
   "source": [
    "from IPython.display import FileLink, FileLinks\n",
    "FileLink('my_notebooks.tgz')"
   ]
  },
  {
   "cell_type": "markdown",
   "metadata": {},
   "source": [
    "### Unwrapping our tarball\n",
    "On a Mac you can \"untar\" by double clicking on the file in finder, or at the terminal with the command `tar -zxf my_notebooks.tgz`.\n",
    "\n",
    "On Windows, you can download software that will do it, such as [7-Zip](http://www.7-zip.org/)"
   ]
  },
  {
   "cell_type": "markdown",
   "metadata": {},
   "source": [
    "## Other Download Options\n",
    "Another way to download files is through scp and sftp, these are secure file transfer protocols.  Command line versions come built in on OS X, as long as you don't mind using the.  There are also GUI versions of scp and sftp, such as [Cyberduck](https://cyberduck.io/) and [Filezilla](https://filezilla-project.org/).  These are both cross platform and free.  For these you would use the same hostname, username, and password that you used to SSH to your virtual machine.\n",
    "\n",
    "I am partial to [rsync](https://en.wikipedia.org/wiki/Rsync).  It is less user friendly, but has powerfully features, such as the ability to transfer only files that are different between two computers, and the ability to resume a transfer that failed part way."
   ]
  }
 ],
 "metadata": {
  "kernelspec": {
   "display_name": "Python 2",
   "language": "python",
   "name": "python2"
  },
  "language_info": {
   "codemirror_mode": {
    "name": "ipython",
    "version": 2
   },
   "file_extension": ".py",
   "mimetype": "text/x-python",
   "name": "python",
   "nbconvert_exporter": "python",
   "pygments_lexer": "ipython2",
   "version": "2.7.11"
  }
 },
 "nbformat": 4,
 "nbformat_minor": 0
}
